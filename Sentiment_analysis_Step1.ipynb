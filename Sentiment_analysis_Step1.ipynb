{
 "cells": [
  {
   "cell_type": "markdown",
   "id": "0679135b-0430-4908-ae8f-6dc2bb8f73fe",
   "metadata": {},
   "source": [
    "# Sentiment Analysis\n",
    "\n",
    "In this notebook, I aim to build and test a sentiment analysis model for tweets using the following machine-learning algorithms.\n",
    "\n",
    "1. Logistic Regression\n",
    "2. Support Vector Machines (Linear Kernel)\n",
    "3. Naive Bayes\n",
    "\n",
    "I am using the [Sentiment140 dataset with 1.6 million tweets](https://www.kaggle.com/datasets/kazanova/sentiment140?resource=download)\n",
    "\n",
    "## Import Necessary Dependencies\n",
    "The first step is importing all the required libraries"
   ]
  },
  {
   "cell_type": "code",
   "execution_count": 2,
   "id": "cc27d21d-51bb-49a8-810b-65a17cc2485f",
   "metadata": {},
   "outputs": [],
   "source": [
    "# utilities\n",
    "import re\n",
    "import numpy as np\n",
    "import pandas as pd\n",
    "import string\n",
    "# plotting\n",
    "import seaborn as sns\n",
    "from wordcloud import WordCloud\n",
    "import matplotlib.pyplot as plt\n",
    "# nltk\n",
    "import nltk\n",
    "nltk.download('punkt_tab')\n",
    "nltk.download('stopwords')\n",
    "nltk.download('wordnet')\n",
    "from nltk.corpus import stopwords\n",
    "from nltk.stem import WordNetLemmatizer\n",
    "from nltk.tokenize import word_tokenize\n",
    "# sklearn\n",
    "from sklearn.svm import LinearSVC\n",
    "from sklearn.naive_bayes import BernoulliNB\n",
    "from sklearn.linear_model import LogisticRegression\n",
    "from sklearn.model_selection import train_test_split\n",
    "from sklearn.feature_extraction.text import TfidfVectorizer\n",
    "from sklearn.metrics import confusion_matrix, classification_report"
   ]
  },
  {
   "cell_type": "markdown",
   "id": "605bbc7b-025e-49ea-a5f4-617e442adb00",
   "metadata": {},
   "source": [
    "## Read and Load the Dataset\n",
    "\n",
    "The dataset is in the following format\n",
    "\n",
    "    target: the polarity of the tweet (0 = negative, 2 = neutral, 4 = positive)\n",
    "\n",
    "    ids: The id of the tweet ( 2087)\n",
    "\n",
    "    date: the date of the tweet (Sat May 16 23:58:44 UTC 2009)\n",
    "\n",
    "    flag: The query (lyx). If there is no query, then this value is NO_QUERY.\n",
    "\n",
    "    user: the user that tweeted (robotickilldozr)\n",
    "\n",
    "    text: the text of the tweet (Lyx is cool)\n",
    "\n",
    "\n",
    "Since the csv file does not contain a header we will create a header list based on the above information. Additionally, to resolve encoding discrepancy we will specify the encoding as \"ISO-8859-1\". For more information on encoding visit [link](https://saturncloud.io/blog/how-to-fix-the-pandas-unicodedecodeerror-utf8-codec-cant-decode-bytes-in-position-01-invalid-continuation-byte-error/)"
   ]
  },
  {
   "cell_type": "code",
   "execution_count": 4,
   "id": "516eb474-57cc-44fb-846c-00a579080af0",
   "metadata": {},
   "outputs": [],
   "source": [
    "### Creating header as a list\n",
    "header = ['target','ids','date','flag','user','text']\n",
    "\n",
    "### Reading .csv file \n",
    "df =  pd.read_csv(\"./twitter.csv.zip\", encoding='ISO-8859-1',names=header)"
   ]
  },
  {
   "cell_type": "code",
   "execution_count": 271,
   "id": "4acdd653-f8f8-4a38-91e0-e10181ac797e",
   "metadata": {},
   "outputs": [
    {
     "data": {
      "text/html": [
       "<div>\n",
       "<style scoped>\n",
       "    .dataframe tbody tr th:only-of-type {\n",
       "        vertical-align: middle;\n",
       "    }\n",
       "\n",
       "    .dataframe tbody tr th {\n",
       "        vertical-align: top;\n",
       "    }\n",
       "\n",
       "    .dataframe thead th {\n",
       "        text-align: right;\n",
       "    }\n",
       "</style>\n",
       "<table border=\"1\" class=\"dataframe\">\n",
       "  <thead>\n",
       "    <tr style=\"text-align: right;\">\n",
       "      <th></th>\n",
       "      <th>target</th>\n",
       "      <th>ids</th>\n",
       "      <th>date</th>\n",
       "      <th>flag</th>\n",
       "      <th>user</th>\n",
       "      <th>text</th>\n",
       "    </tr>\n",
       "  </thead>\n",
       "  <tbody>\n",
       "    <tr>\n",
       "      <th>0</th>\n",
       "      <td>0</td>\n",
       "      <td>1467810369</td>\n",
       "      <td>Mon Apr 06 22:19:45 PDT 2009</td>\n",
       "      <td>NO_QUERY</td>\n",
       "      <td>_TheSpecialOne_</td>\n",
       "      <td>@switchfoot http://twitpic.com/2y1zl - Awww, t...</td>\n",
       "    </tr>\n",
       "    <tr>\n",
       "      <th>1</th>\n",
       "      <td>0</td>\n",
       "      <td>1467810672</td>\n",
       "      <td>Mon Apr 06 22:19:49 PDT 2009</td>\n",
       "      <td>NO_QUERY</td>\n",
       "      <td>scotthamilton</td>\n",
       "      <td>is upset that he can't update his Facebook by ...</td>\n",
       "    </tr>\n",
       "    <tr>\n",
       "      <th>2</th>\n",
       "      <td>0</td>\n",
       "      <td>1467810917</td>\n",
       "      <td>Mon Apr 06 22:19:53 PDT 2009</td>\n",
       "      <td>NO_QUERY</td>\n",
       "      <td>mattycus</td>\n",
       "      <td>@Kenichan I dived many times for the ball. Man...</td>\n",
       "    </tr>\n",
       "    <tr>\n",
       "      <th>3</th>\n",
       "      <td>0</td>\n",
       "      <td>1467811184</td>\n",
       "      <td>Mon Apr 06 22:19:57 PDT 2009</td>\n",
       "      <td>NO_QUERY</td>\n",
       "      <td>ElleCTF</td>\n",
       "      <td>my whole body feels itchy and like its on fire</td>\n",
       "    </tr>\n",
       "    <tr>\n",
       "      <th>4</th>\n",
       "      <td>0</td>\n",
       "      <td>1467811193</td>\n",
       "      <td>Mon Apr 06 22:19:57 PDT 2009</td>\n",
       "      <td>NO_QUERY</td>\n",
       "      <td>Karoli</td>\n",
       "      <td>@nationwideclass no, it's not behaving at all....</td>\n",
       "    </tr>\n",
       "  </tbody>\n",
       "</table>\n",
       "</div>"
      ],
      "text/plain": [
       "   target         ids                          date      flag  \\\n",
       "0       0  1467810369  Mon Apr 06 22:19:45 PDT 2009  NO_QUERY   \n",
       "1       0  1467810672  Mon Apr 06 22:19:49 PDT 2009  NO_QUERY   \n",
       "2       0  1467810917  Mon Apr 06 22:19:53 PDT 2009  NO_QUERY   \n",
       "3       0  1467811184  Mon Apr 06 22:19:57 PDT 2009  NO_QUERY   \n",
       "4       0  1467811193  Mon Apr 06 22:19:57 PDT 2009  NO_QUERY   \n",
       "\n",
       "              user                                               text  \n",
       "0  _TheSpecialOne_  @switchfoot http://twitpic.com/2y1zl - Awww, t...  \n",
       "1    scotthamilton  is upset that he can't update his Facebook by ...  \n",
       "2         mattycus  @Kenichan I dived many times for the ball. Man...  \n",
       "3          ElleCTF    my whole body feels itchy and like its on fire   \n",
       "4           Karoli  @nationwideclass no, it's not behaving at all....  "
      ]
     },
     "execution_count": 271,
     "metadata": {},
     "output_type": "execute_result"
    }
   ],
   "source": [
    "df.head()"
   ]
  },
  {
   "cell_type": "markdown",
   "id": "699f7bd4-73b4-407c-b1ce-f20701162519",
   "metadata": {},
   "source": [
    "## Exploratory Data Analysis"
   ]
  },
  {
   "cell_type": "code",
   "execution_count": 41,
   "id": "3306e87f-3b56-488e-a638-ae18c0f1d4ce",
   "metadata": {},
   "outputs": [
    {
     "name": "stdout",
     "output_type": "stream",
     "text": [
      "<class 'pandas.core.frame.DataFrame'>\n",
      "RangeIndex: 1600000 entries, 0 to 1599999\n",
      "Data columns (total 6 columns):\n",
      " #   Column  Non-Null Count    Dtype \n",
      "---  ------  --------------    ----- \n",
      " 0   target  1600000 non-null  int64 \n",
      " 1   ids     1600000 non-null  int64 \n",
      " 2   date    1600000 non-null  object\n",
      " 3   flag    1600000 non-null  object\n",
      " 4   user    1600000 non-null  object\n",
      " 5   text    1600000 non-null  object\n",
      "dtypes: int64(2), object(4)\n",
      "memory usage: 73.2+ MB\n"
     ]
    }
   ],
   "source": [
    "df.info()"
   ]
  },
  {
   "cell_type": "code",
   "execution_count": 139,
   "id": "d2b3fcec-ed06-45c7-91b5-49169ee56d9a",
   "metadata": {},
   "outputs": [
    {
     "data": {
      "text/plain": [
       "0"
      ]
     },
     "execution_count": 139,
     "metadata": {},
     "output_type": "execute_result"
    }
   ],
   "source": [
    "df.isna().values.any().sum()"
   ]
  },
  {
   "cell_type": "markdown",
   "id": "b3c91b36-4019-418f-8eea-613ca3995d18",
   "metadata": {},
   "source": [
    "There are no null values pressent in our dataframe, yayy!!"
   ]
  },
  {
   "cell_type": "code",
   "execution_count": 127,
   "id": "76dc5830-4275-4596-987e-740e834b2937",
   "metadata": {},
   "outputs": [
    {
     "data": {
      "text/plain": [
       "(1600000, 6)"
      ]
     },
     "execution_count": 127,
     "metadata": {},
     "output_type": "execute_result"
    }
   ],
   "source": [
    "df.shape"
   ]
  },
  {
   "cell_type": "code",
   "execution_count": 47,
   "id": "65f6b39c-64e9-408d-b2ee-ca7109ac0f1e",
   "metadata": {},
   "outputs": [
    {
     "data": {
      "text/plain": [
       "target\n",
       "0    800000\n",
       "4    800000\n",
       "Name: count, dtype: int64"
      ]
     },
     "execution_count": 47,
     "metadata": {},
     "output_type": "execute_result"
    }
   ],
   "source": [
    "df['target'].value_counts()"
   ]
  },
  {
   "cell_type": "markdown",
   "id": "04831a1a-10c0-4d6a-a0a3-8c42882be005",
   "metadata": {},
   "source": [
    "We have equal count of positive and negative tweets"
   ]
  },
  {
   "cell_type": "code",
   "execution_count": 49,
   "id": "58131e6b-339d-4614-8395-5350e75f04b6",
   "metadata": {},
   "outputs": [
    {
     "data": {
      "text/plain": [
       "flag\n",
       "NO_QUERY    1600000\n",
       "Name: count, dtype: int64"
      ]
     },
     "execution_count": 49,
     "metadata": {},
     "output_type": "execute_result"
    }
   ],
   "source": [
    "df['flag'].value_counts()"
   ]
  },
  {
   "cell_type": "markdown",
   "id": "cd811e92-f848-499e-ac18-b67f71501d63",
   "metadata": {},
   "source": [
    "Flag column has just one value so it is irrelevant for our goal. Additionally, tweet id, date of tweet and user id will not be required to detecting the sentiment of the tweet so we will drop these column and only focus on the `target` and the `text` column."
   ]
  },
  {
   "cell_type": "code",
   "execution_count": 6,
   "id": "10446603-e577-4a8d-a75d-37c35d76b219",
   "metadata": {},
   "outputs": [],
   "source": [
    "data = df[['target','text']]"
   ]
  },
  {
   "cell_type": "code",
   "execution_count": 143,
   "id": "d8267b1b-7b5a-4a1c-80f8-1a7585a39118",
   "metadata": {},
   "outputs": [
    {
     "data": {
      "text/html": [
       "<div>\n",
       "<style scoped>\n",
       "    .dataframe tbody tr th:only-of-type {\n",
       "        vertical-align: middle;\n",
       "    }\n",
       "\n",
       "    .dataframe tbody tr th {\n",
       "        vertical-align: top;\n",
       "    }\n",
       "\n",
       "    .dataframe thead th {\n",
       "        text-align: right;\n",
       "    }\n",
       "</style>\n",
       "<table border=\"1\" class=\"dataframe\">\n",
       "  <thead>\n",
       "    <tr style=\"text-align: right;\">\n",
       "      <th></th>\n",
       "      <th>target</th>\n",
       "      <th>text</th>\n",
       "    </tr>\n",
       "  </thead>\n",
       "  <tbody>\n",
       "    <tr>\n",
       "      <th>0</th>\n",
       "      <td>0</td>\n",
       "      <td>@switchfoot http://twitpic.com/2y1zl - Awww, t...</td>\n",
       "    </tr>\n",
       "    <tr>\n",
       "      <th>1</th>\n",
       "      <td>0</td>\n",
       "      <td>is upset that he can't update his Facebook by ...</td>\n",
       "    </tr>\n",
       "    <tr>\n",
       "      <th>2</th>\n",
       "      <td>0</td>\n",
       "      <td>@Kenichan I dived many times for the ball. Man...</td>\n",
       "    </tr>\n",
       "    <tr>\n",
       "      <th>3</th>\n",
       "      <td>0</td>\n",
       "      <td>my whole body feels itchy and like its on fire</td>\n",
       "    </tr>\n",
       "    <tr>\n",
       "      <th>4</th>\n",
       "      <td>0</td>\n",
       "      <td>@nationwideclass no, it's not behaving at all....</td>\n",
       "    </tr>\n",
       "  </tbody>\n",
       "</table>\n",
       "</div>"
      ],
      "text/plain": [
       "   target                                               text\n",
       "0       0  @switchfoot http://twitpic.com/2y1zl - Awww, t...\n",
       "1       0  is upset that he can't update his Facebook by ...\n",
       "2       0  @Kenichan I dived many times for the ball. Man...\n",
       "3       0    my whole body feels itchy and like its on fire \n",
       "4       0  @nationwideclass no, it's not behaving at all...."
      ]
     },
     "execution_count": 143,
     "metadata": {},
     "output_type": "execute_result"
    }
   ],
   "source": [
    "data.head()"
   ]
  },
  {
   "cell_type": "markdown",
   "id": "637a3d43-8e76-41c5-9876-bc6706d9faa2",
   "metadata": {},
   "source": [
    "## Data Visualization"
   ]
  },
  {
   "cell_type": "code",
   "execution_count": 8,
   "id": "3a11f669-3ff0-43ed-911a-a75ca76d12b2",
   "metadata": {},
   "outputs": [
    {
     "data": {
      "text/plain": [
       "[Text(0, 0, 'Negative'), Text(1, 0, 'Positive')]"
      ]
     },
     "execution_count": 8,
     "metadata": {},
     "output_type": "execute_result"
    },
    {
     "data": {
      "image/png": "[encoded data removed]",
      "text/plain": [
       "<Figure size 640x480 with 1 Axes>"
      ]
     },
     "metadata": {},
     "output_type": "display_data"
    }
   ],
   "source": [
    "### Plotting the distribution for dataset.\n",
    "plot = data['target'].value_counts().plot(kind ='bar')\n",
    "plot.set_xticklabels(['Negative','Positive'], rotation=0)"
   ]
  },
  {
   "cell_type": "markdown",
   "id": "2f0e70fc-07c1-48f2-86b7-2425d0e36c76",
   "metadata": {},
   "source": [
    "## Splitting data\n",
    "\n",
    "We will split the data into a training set, testing set, and validation set. This will enable us to improve the text vectorization and tune the hyperparameters of the best-performing model.  "
   ]
  },
  {
   "cell_type": "code",
   "execution_count": 12,
   "id": "3d6ba511-5e1d-4c9f-a465-855cace2e835",
   "metadata": {},
   "outputs": [],
   "source": [
    "### Shuffling the data to ensure proportional split of positive and negative tweets\n",
    "shuffle_data = data.sample(frac=1)"
   ]
  },
  {
   "cell_type": "code",
   "execution_count": 432,
   "id": "d6d661d0-a392-41d0-baf7-0c09ad674ceb",
   "metadata": {},
   "outputs": [],
   "source": [
    "### Splitting the dependent and independent variable\n",
    "X = shuffle_data['text']\n",
    "y = shuffle_data['target']"
   ]
  },
  {
   "cell_type": "code",
   "execution_count": 446,
   "id": "81a8e676-e64d-40ae-8ff9-8c04edfed35c",
   "metadata": {},
   "outputs": [],
   "source": [
    "### Creating training and testing dataset\n",
    "X_train, X_test, y_train, y_test = train_test_split(X,y,train_size=0.9,random_state=42)"
   ]
  },
  {
   "cell_type": "code",
   "execution_count": 281,
   "id": "0d163afa-1ddf-42f0-acec-430906fcb66c",
   "metadata": {},
   "outputs": [
    {
     "name": "stdout",
     "output_type": "stream",
     "text": [
      "(1440000,) (1440000,)\n"
     ]
    }
   ],
   "source": [
    "print(X_train.shape, y_train.shape)"
   ]
  },
  {
   "cell_type": "code",
   "execution_count": 448,
   "id": "d418bf95-9f6a-443b-bf95-01b570c954c7",
   "metadata": {},
   "outputs": [],
   "source": [
    "### Further splitting the training data into training and validation dataset\n",
    "X_train,X_val,y_train,y_val = train_test_split(X_train,y_train, train_size=0.8, random_state=42)"
   ]
  },
  {
   "cell_type": "code",
   "execution_count": 412,
   "id": "bbf499fb-9304-40fb-8c84-bc3f08fe6928",
   "metadata": {},
   "outputs": [
    {
     "name": "stdout",
     "output_type": "stream",
     "text": [
      "(1152000,) (1152000,)\n"
     ]
    }
   ],
   "source": [
    "print(X_train.shape, y_train.shape)"
   ]
  },
  {
   "cell_type": "markdown",
   "id": "40af839b-aa86-4217-9b19-a816b89c9c58",
   "metadata": {},
   "source": [
    "## Data Preprocessing\n",
    "\n",
    "In this step we will mainly deal with cleaning the tweets. This includes removing stop words, emojis, URLs, hashtags, mentions, and punctuations. Additionally we will stem the tweets to change the words to their root form."
   ]
  },
  {
   "cell_type": "code",
   "execution_count": 318,
   "id": "a24c01d0-3e02-4e8e-b11f-ed5a64fe8b50",
   "metadata": {},
   "outputs": [
    {
     "data": {
      "text/plain": [
       "214030     They should make a converter/adapter that make...\n",
       "1261999    @madlyv sounds like one powerpacked juice. I a...\n",
       "514367     Upset chris saying me being lovely Dovely Is a...\n",
       "785741     @One_StepCloser oh ok :] i have flu and probab...\n",
       "609248     @brizanizz  tell them you're ill and it's your...\n",
       "1302335                 hey twitterland.. this girl is back \n",
       "1153284    it's five in the morning and i'm sitting on my...\n",
       "362431                                    You make me worry \n",
       "498839              so sick of the shitty weather in Sydney \n",
       "1037831                          @SophieFumbles Yes you are \n",
       "Name: text, dtype: object"
      ]
     },
     "execution_count": 318,
     "metadata": {},
     "output_type": "execute_result"
    }
   ],
   "source": [
    "X_train.tail(10)"
   ]
  },
  {
   "cell_type": "code",
   "execution_count": 314,
   "id": "4b53db22-8266-49b9-b897-75d2a1ded01f",
   "metadata": {},
   "outputs": [
    {
     "name": "stdout",
     "output_type": "stream",
     "text": [
      "TEXT 1: @switchfoot http://twitpic.com/2y1zl - Awww, that's a bummer.  You shoulda got David Carr of Third Day to do it. ;D \n",
      " TEXT 2: is upset that he can't update his Facebook by texting it... and might cry as a result  School today also. Blah!\n"
     ]
    }
   ],
   "source": [
    "print(\"TEXT 1:\" ,X_train.loc[0],\"\\n\",\"TEXT 2:\", X_train.loc[1])"
   ]
  },
  {
   "cell_type": "code",
   "execution_count": 28,
   "id": "c9c5b1a7-5b34-4f52-ac44-b35cf4c97a87",
   "metadata": {},
   "outputs": [
    {
     "name": "stdout",
     "output_type": "stream",
     "text": [
      "[\"'he\", \"'ma\", \"'d\", \"'is\", \"'to\", \"'s\", \"'as\", \"'re\", \"'no\", \"'me\", \"'be\", \"'at\", \"'by\", \"'my\", \"'m\", \"'a\", \"'if\", \"'on\", \"'of\", \"'y\", \"'do\", \"'it\", \"'ll\", \"'t\", \"'we\", \"'i\", \"'up\", \"'ve\", \"'in\", \"'o\", \"'an\", \"'or\", \"'so\", \"'am\"]\n",
      "{'weren', \"'an\", 'most', 'he', 'did', 'its', 'ma', 'd', 'such', 'under', \"'ma\", 'wasn', \"'ve\", \"'s\", 'but', \"'so\", \"you're\", 'just', \"'up\", \"'o\", 'him', 'is', 'each', 'aren', 'doing', \"aren't\", \"'me\", 'to', 'won', 's', 'between', 'herself', 'who', 'than', \"it's\", 'itself', 'don', 'as', \"'be\", 'after', 're', \"'no\", 'had', \"shouldn't\", \"'d\", 'ain', \"'ll\", \"needn't\", 'more', \"'to\", 'mustn', 'once', 'couldn', 'yours', 'for', \"you've\", 'own', \"didn't\", \"she's\", \"'we\", 'isn', 'no', 'you', 'while', \"haven't\", 'yourself', \"isn't\", 'me', 'further', 'she', 'how', \"'as\", 'that', 'through', 'himself', 'when', 'off', 'be', 'both', \"'in\", 'over', 'about', 'what', 'at', \"'a\", 'will', 'all', \"'t\", 'theirs', \"'it\", 'should', 'where', 'themselves', \"you'll\", 'by', \"'is\", \"wouldn't\", \"mustn't\", 'ourselves', 'not', \"doesn't\", \"hadn't\", 'why', 'shouldn', 'their', 'there', 'my', 'again', 'too', 'myself', 'being', 'only', \"that'll\", 'until', \"'he\", 'shan', 'our', \"should've\", 'her', \"'by\", 'because', 'those', \"won't\", 'can', 'hers', 'm', 'have', \"'of\", 'does', \"'if\", 'any', 'with', 'a', 'against', \"weren't\", 'the', 'are', \"hasn't\", \"'at\", 'were', 'below', \"couldn't\", \"'my\", 'his', 'into', 'if', 'having', 'then', 'mightn', 'wouldn', 'from', \"'i\", 'on', 'here', 'of', \"'on\", \"mightn't\", 'same', 'was', 'y', 'do', \"shan't\", 'it', 'your', 'some', 'll', \"'re\", 'other', 'now', 'nor', 'been', 't', 'down', 'needn', 'we', 'few', \"don't\", 'which', 'has', 'i', 'yourselves', \"'am\", \"you'd\", 'up', 'haven', 'very', \"'do\", 've', 'doesn', 'out', 'in', 'o', 'ours', 'whom', 'these', 'hadn', 'hasn', \"'y\", \"'m\", 'an', 'above', \"wasn't\", 'or', 'this', \"'or\", 'and', 'so', 'during', 'before', 'am', 'didn', 'they', 'them'}\n"
     ]
    }
   ],
   "source": [
    "stop_words = set(stopwords.words('english'))\n",
    "\n",
    "### Adding more combinations of stop words to enhance the cleaning process\n",
    "setx = []\n",
    "for i in stop_words:\n",
    "    if len(i)<=2:\n",
    "        setx.append(\"'\"+i)\n",
    "print(setx)\n",
    "\n",
    "stop_words.update(setx)\n",
    "print(stop_words)"
   ]
  },
  {
   "cell_type": "code",
   "execution_count": 460,
   "id": "2f9b8a08-d356-4d32-8f02-45cdffacc44a",
   "metadata": {},
   "outputs": [],
   "source": [
    "### Defining emoji patterns to be removed from the text\n",
    "emoji_pattern = re.compile(\"[\"\n",
    "        u\"\\U0001F600-\\U0001F64F\"  # emoticons\n",
    "        u\"\\U0001F300-\\U0001F5FF\"  # symbols & pictographs\n",
    "        u\"\\U0001F680-\\U0001F6FF\"  # transport & map symbols\n",
    "        u\"\\U0001F1E0-\\U0001F1FF\"  # flags (iOS)# symbols & pictographs\n",
    "        \"]+\", flags=re.UNICODE)\n",
    "\n",
    "### a comprehensive function to perform all cleaning task in one step.\n",
    "def clean_tweets(txt):\n",
    "    ### Tokenize the tweet\n",
    "    word_tokens = word_tokenize(str(txt))\n",
    "    ### Remove stop words\n",
    "    filtered_sentence = [w for w in word_tokens if not w.lower() in stop_words]\n",
    "    ### stem words to the base form\n",
    "    stemmed_word = [stemmer.stem(w) for w in filtered_sentence]\n",
    "    txt = \" \".join(stemmed_word)\n",
    "    ### Removing endline\n",
    "    txt = txt.replace('\\n','')\n",
    "    ### Removing digits from tweets\n",
    "    txt = re.sub(r\"\\d\", \"\", txt)\n",
    "    ### Removing mentions\n",
    "    txt = re.sub(\"@[A-Za-z0-9_]+\",\"\", txt)\n",
    "    ### Removing hashtags\n",
    "    txt = re.sub(\"#[A-Za-z0-9_]+\",\"\", txt)\n",
    "    ### Removing links\n",
    "    txt = re.sub(r\"((http://)[^ ]*|(https://)[^ ]*|( www\\.)[^ ]*)\", '',txt, flags=re.MULTILINE)\n",
    "    ### Removing emojis\n",
    "    txt = emoji_pattern.sub(r'',txt)\n",
    "    ### Removing punctuation from the tweet\n",
    "    no_punc = [char for char in txt if char not in string.punctuation]\n",
    "    txt = ''.join(no_punc)\n",
    "    return txt"
   ]
  },
  {
   "cell_type": "code",
   "execution_count": 468,
   "id": "e5a4a8e3-b79a-4045-978c-ffc5728425bd",
   "metadata": {},
   "outputs": [],
   "source": [
    "### passing all the tweets from train, validation, and test set through the cleaning function\n",
    "X_train = X_train.apply(clean_tweets)\n",
    "X_val = X_val.apply(clean_tweets)\n",
    "X_test = X_test.apply(clean_tweets)"
   ]
  },
  {
   "cell_type": "code",
   "execution_count": 442,
   "id": "3a30b2a2-1faa-4334-aa5b-56bf0188f3dd",
   "metadata": {},
   "outputs": [
    {
     "data": {
      "text/plain": [
       "786607                                                      \n",
       "696856                                      gotpullspeedfuck\n",
       "185141     looklikegomcnuggetfinalmaybmclakerwouldrathers...\n",
       "1372881                                      whootwitterback\n",
       "885342                                          loveplayshow\n",
       "1035710                                                     \n",
       "1396541               satnerothinkingettinoneahhguhdtastfood\n",
       "530422     atelunabreakfastbaryesterdayknewntglutenfrecra...\n",
       "866993                                 listennewmaccabestuff\n",
       "103210                                                      \n",
       "Name: text, dtype: object"
      ]
     },
     "execution_count": 442,
     "metadata": {},
     "output_type": "execute_result"
    }
   ],
   "source": [
    "X_train.head(10)"
   ]
  },
  {
   "cell_type": "markdown",
   "id": "24f24800-2376-472d-bb58-f52e222d257f",
   "metadata": {},
   "source": [
    "## Vector Transformation\n",
    "\n",
    "Using TF-IDF we will convert the text into the form of vector for using them with our ML models."
   ]
  },
  {
   "cell_type": "code",
   "execution_count": 469,
   "id": "f0752aba-c8f2-4a38-8e1a-328a9b76b21f",
   "metadata": {},
   "outputs": [
    {
     "data": {
      "text/html": [
       "<style>#sk-container-id-3 {\n",
       "  /* Definition of color scheme common for light and dark mode */\n",
       "  --sklearn-color-text: black;\n",
       "  --sklearn-color-line: gray;\n",
       "  /* Definition of color scheme for unfitted estimators */\n",
       "  --sklearn-color-unfitted-level-0: #fff5e6;\n",
       "  --sklearn-color-unfitted-level-1: #f6e4d2;\n",
       "  --sklearn-color-unfitted-level-2: #ffe0b3;\n",
       "  --sklearn-color-unfitted-level-3: chocolate;\n",
       "  /* Definition of color scheme for fitted estimators */\n",
       "  --sklearn-color-fitted-level-0: #f0f8ff;\n",
       "  --sklearn-color-fitted-level-1: #d4ebff;\n",
       "  --sklearn-color-fitted-level-2: #b3dbfd;\n",
       "  --sklearn-color-fitted-level-3: cornflowerblue;\n",
       "\n",
       "  /* Specific color for light theme */\n",
       "  --sklearn-color-text-on-default-background: var(--sg-text-color, var(--theme-code-foreground, var(--jp-content-font-color1, black)));\n",
       "  --sklearn-color-background: var(--sg-background-color, var(--theme-background, var(--jp-layout-color0, white)));\n",
       "  --sklearn-color-border-box: var(--sg-text-color, var(--theme-code-foreground, var(--jp-content-font-color1, black)));\n",
       "  --sklearn-color-icon: #696969;\n",
       "\n",
       "  @media (prefers-color-scheme: dark) {\n",
       "    /* Redefinition of color scheme for dark theme */\n",
       "    --sklearn-color-text-on-default-background: var(--sg-text-color, var(--theme-code-foreground, var(--jp-content-font-color1, white)));\n",
       "    --sklearn-color-background: var(--sg-background-color, var(--theme-background, var(--jp-layout-color0, #111)));\n",
       "    --sklearn-color-border-box: var(--sg-text-color, var(--theme-code-foreground, var(--jp-content-font-color1, white)));\n",
       "    --sklearn-color-icon: #878787;\n",
       "  }\n",
       "}\n",
       "\n",
       "#sk-container-id-3 {\n",
       "  color: var(--sklearn-color-text);\n",
       "}\n",
       "\n",
       "#sk-container-id-3 pre {\n",
       "  padding: 0;\n",
       "}\n",
       "\n",
       "#sk-container-id-3 input.sk-hidden--visually {\n",
       "  border: 0;\n",
       "  clip: rect(1px 1px 1px 1px);\n",
       "  clip: rect(1px, 1px, 1px, 1px);\n",
       "  height: 1px;\n",
       "  margin: -1px;\n",
       "  overflow: hidden;\n",
       "  padding: 0;\n",
       "  position: absolute;\n",
       "  width: 1px;\n",
       "}\n",
       "\n",
       "#sk-container-id-3 div.sk-dashed-wrapped {\n",
       "  border: 1px dashed var(--sklearn-color-line);\n",
       "  margin: 0 0.4em 0.5em 0.4em;\n",
       "  box-sizing: border-box;\n",
       "  padding-bottom: 0.4em;\n",
       "  background-color: var(--sklearn-color-background);\n",
       "}\n",
       "\n",
       "#sk-container-id-3 div.sk-container {\n",
       "  /* jupyter's `normalize.less` sets `[hidden] { display: none; }`\n",
       "     but bootstrap.min.css set `[hidden] { display: none !important; }`\n",
       "     so we also need the `!important` here to be able to override the\n",
       "     default hidden behavior on the sphinx rendered scikit-learn.org.\n",
       "     See: https://github.com/scikit-learn/scikit-learn/issues/21755 */\n",
       "  display: inline-block !important;\n",
       "  position: relative;\n",
       "}\n",
       "\n",
       "#sk-container-id-3 div.sk-text-repr-fallback {\n",
       "  display: none;\n",
       "}\n",
       "\n",
       "div.sk-parallel-item,\n",
       "div.sk-serial,\n",
       "div.sk-item {\n",
       "  /* draw centered vertical line to link estimators */\n",
       "  background-image: linear-gradient(var(--sklearn-color-text-on-default-background), var(--sklearn-color-text-on-default-background));\n",
       "  background-size: 2px 100%;\n",
       "  background-repeat: no-repeat;\n",
       "  background-position: center center;\n",
       "}\n",
       "\n",
       "/* Parallel-specific style estimator block */\n",
       "\n",
       "#sk-container-id-3 div.sk-parallel-item::after {\n",
       "  content: \"\";\n",
       "  width: 100%;\n",
       "  border-bottom: 2px solid var(--sklearn-color-text-on-default-background);\n",
       "  flex-grow: 1;\n",
       "}\n",
       "\n",
       "#sk-container-id-3 div.sk-parallel {\n",
       "  display: flex;\n",
       "  align-items: stretch;\n",
       "  justify-content: center;\n",
       "  background-color: var(--sklearn-color-background);\n",
       "  position: relative;\n",
       "}\n",
       "\n",
       "#sk-container-id-3 div.sk-parallel-item {\n",
       "  display: flex;\n",
       "  flex-direction: column;\n",
       "}\n",
       "\n",
       "#sk-container-id-3 div.sk-parallel-item:first-child::after {\n",
       "  align-self: flex-end;\n",
       "  width: 50%;\n",
       "}\n",
       "\n",
       "#sk-container-id-3 div.sk-parallel-item:last-child::after {\n",
       "  align-self: flex-start;\n",
       "  width: 50%;\n",
       "}\n",
       "\n",
       "#sk-container-id-3 div.sk-parallel-item:only-child::after {\n",
       "  width: 0;\n",
       "}\n",
       "\n",
       "/* Serial-specific style estimator block */\n",
       "\n",
       "#sk-container-id-3 div.sk-serial {\n",
       "  display: flex;\n",
       "  flex-direction: column;\n",
       "  align-items: center;\n",
       "  background-color: var(--sklearn-color-background);\n",
       "  padding-right: 1em;\n",
       "  padding-left: 1em;\n",
       "}\n",
       "\n",
       "\n",
       "/* Toggleable style: style used for estimator/Pipeline/ColumnTransformer box that is\n",
       "clickable and can be expanded/collapsed.\n",
       "- Pipeline and ColumnTransformer use this feature and define the default style\n",
       "- Estimators will overwrite some part of the style using the `sk-estimator` class\n",
       "*/\n",
       "\n",
       "/* Pipeline and ColumnTransformer style (default) */\n",
       "\n",
       "#sk-container-id-3 div.sk-toggleable {\n",
       "  /* Default theme specific background. It is overwritten whether we have a\n",
       "  specific estimator or a Pipeline/ColumnTransformer */\n",
       "  background-color: var(--sklearn-color-background);\n",
       "}\n",
       "\n",
       "/* Toggleable label */\n",
       "#sk-container-id-3 label.sk-toggleable__label {\n",
       "  cursor: pointer;\n",
       "  display: block;\n",
       "  width: 100%;\n",
       "  margin-bottom: 0;\n",
       "  padding: 0.5em;\n",
       "  box-sizing: border-box;\n",
       "  text-align: center;\n",
       "}\n",
       "\n",
       "#sk-container-id-3 label.sk-toggleable__label-arrow:before {\n",
       "  /* Arrow on the left of the label */\n",
       "  content: \"▸\";\n",
       "  float: left;\n",
       "  margin-right: 0.25em;\n",
       "  color: var(--sklearn-color-icon);\n",
       "}\n",
       "\n",
       "#sk-container-id-3 label.sk-toggleable__label-arrow:hover:before {\n",
       "  color: var(--sklearn-color-text);\n",
       "}\n",
       "\n",
       "/* Toggleable content - dropdown */\n",
       "\n",
       "#sk-container-id-3 div.sk-toggleable__content {\n",
       "  max-height: 0;\n",
       "  max-width: 0;\n",
       "  overflow: hidden;\n",
       "  text-align: left;\n",
       "  /* unfitted */\n",
       "  background-color: var(--sklearn-color-unfitted-level-0);\n",
       "}\n",
       "\n",
       "#sk-container-id-3 div.sk-toggleable__content.fitted {\n",
       "  /* fitted */\n",
       "  background-color: var(--sklearn-color-fitted-level-0);\n",
       "}\n",
       "\n",
       "#sk-container-id-3 div.sk-toggleable__content pre {\n",
       "  margin: 0.2em;\n",
       "  border-radius: 0.25em;\n",
       "  color: var(--sklearn-color-text);\n",
       "  /* unfitted */\n",
       "  background-color: var(--sklearn-color-unfitted-level-0);\n",
       "}\n",
       "\n",
       "#sk-container-id-3 div.sk-toggleable__content.fitted pre {\n",
       "  /* unfitted */\n",
       "  background-color: var(--sklearn-color-fitted-level-0);\n",
       "}\n",
       "\n",
       "#sk-container-id-3 input.sk-toggleable__control:checked~div.sk-toggleable__content {\n",
       "  /* Expand drop-down */\n",
       "  max-height: 200px;\n",
       "  max-width: 100%;\n",
       "  overflow: auto;\n",
       "}\n",
       "\n",
       "#sk-container-id-3 input.sk-toggleable__control:checked~label.sk-toggleable__label-arrow:before {\n",
       "  content: \"▾\";\n",
       "}\n",
       "\n",
       "/* Pipeline/ColumnTransformer-specific style */\n",
       "\n",
       "#sk-container-id-3 div.sk-label input.sk-toggleable__control:checked~label.sk-toggleable__label {\n",
       "  color: var(--sklearn-color-text);\n",
       "  background-color: var(--sklearn-color-unfitted-level-2);\n",
       "}\n",
       "\n",
       "#sk-container-id-3 div.sk-label.fitted input.sk-toggleable__control:checked~label.sk-toggleable__label {\n",
       "  background-color: var(--sklearn-color-fitted-level-2);\n",
       "}\n",
       "\n",
       "/* Estimator-specific style */\n",
       "\n",
       "/* Colorize estimator box */\n",
       "#sk-container-id-3 div.sk-estimator input.sk-toggleable__control:checked~label.sk-toggleable__label {\n",
       "  /* unfitted */\n",
       "  background-color: var(--sklearn-color-unfitted-level-2);\n",
       "}\n",
       "\n",
       "#sk-container-id-3 div.sk-estimator.fitted input.sk-toggleable__control:checked~label.sk-toggleable__label {\n",
       "  /* fitted */\n",
       "  background-color: var(--sklearn-color-fitted-level-2);\n",
       "}\n",
       "\n",
       "#sk-container-id-3 div.sk-label label.sk-toggleable__label,\n",
       "#sk-container-id-3 div.sk-label label {\n",
       "  /* The background is the default theme color */\n",
       "  color: var(--sklearn-color-text-on-default-background);\n",
       "}\n",
       "\n",
       "/* On hover, darken the color of the background */\n",
       "#sk-container-id-3 div.sk-label:hover label.sk-toggleable__label {\n",
       "  color: var(--sklearn-color-text);\n",
       "  background-color: var(--sklearn-color-unfitted-level-2);\n",
       "}\n",
       "\n",
       "/* Label box, darken color on hover, fitted */\n",
       "#sk-container-id-3 div.sk-label.fitted:hover label.sk-toggleable__label.fitted {\n",
       "  color: var(--sklearn-color-text);\n",
       "  background-color: var(--sklearn-color-fitted-level-2);\n",
       "}\n",
       "\n",
       "/* Estimator label */\n",
       "\n",
       "#sk-container-id-3 div.sk-label label {\n",
       "  font-family: monospace;\n",
       "  font-weight: bold;\n",
       "  display: inline-block;\n",
       "  line-height: 1.2em;\n",
       "}\n",
       "\n",
       "#sk-container-id-3 div.sk-label-container {\n",
       "  text-align: center;\n",
       "}\n",
       "\n",
       "/* Estimator-specific */\n",
       "#sk-container-id-3 div.sk-estimator {\n",
       "  font-family: monospace;\n",
       "  border: 1px dotted var(--sklearn-color-border-box);\n",
       "  border-radius: 0.25em;\n",
       "  box-sizing: border-box;\n",
       "  margin-bottom: 0.5em;\n",
       "  /* unfitted */\n",
       "  background-color: var(--sklearn-color-unfitted-level-0);\n",
       "}\n",
       "\n",
       "#sk-container-id-3 div.sk-estimator.fitted {\n",
       "  /* fitted */\n",
       "  background-color: var(--sklearn-color-fitted-level-0);\n",
       "}\n",
       "\n",
       "/* on hover */\n",
       "#sk-container-id-3 div.sk-estimator:hover {\n",
       "  /* unfitted */\n",
       "  background-color: var(--sklearn-color-unfitted-level-2);\n",
       "}\n",
       "\n",
       "#sk-container-id-3 div.sk-estimator.fitted:hover {\n",
       "  /* fitted */\n",
       "  background-color: var(--sklearn-color-fitted-level-2);\n",
       "}\n",
       "\n",
       "/* Specification for estimator info (e.g. \"i\" and \"?\") */\n",
       "\n",
       "/* Common style for \"i\" and \"?\" */\n",
       "\n",
       ".sk-estimator-doc-link,\n",
       "a:link.sk-estimator-doc-link,\n",
       "a:visited.sk-estimator-doc-link {\n",
       "  float: right;\n",
       "  font-size: smaller;\n",
       "  line-height: 1em;\n",
       "  font-family: monospace;\n",
       "  background-color: var(--sklearn-color-background);\n",
       "  border-radius: 1em;\n",
       "  height: 1em;\n",
       "  width: 1em;\n",
       "  text-decoration: none !important;\n",
       "  margin-left: 1ex;\n",
       "  /* unfitted */\n",
       "  border: var(--sklearn-color-unfitted-level-1) 1pt solid;\n",
       "  color: var(--sklearn-color-unfitted-level-1);\n",
       "}\n",
       "\n",
       ".sk-estimator-doc-link.fitted,\n",
       "a:link.sk-estimator-doc-link.fitted,\n",
       "a:visited.sk-estimator-doc-link.fitted {\n",
       "  /* fitted */\n",
       "  border: var(--sklearn-color-fitted-level-1) 1pt solid;\n",
       "  color: var(--sklearn-color-fitted-level-1);\n",
       "}\n",
       "\n",
       "/* On hover */\n",
       "div.sk-estimator:hover .sk-estimator-doc-link:hover,\n",
       ".sk-estimator-doc-link:hover,\n",
       "div.sk-label-container:hover .sk-estimator-doc-link:hover,\n",
       ".sk-estimator-doc-link:hover {\n",
       "  /* unfitted */\n",
       "  background-color: var(--sklearn-color-unfitted-level-3);\n",
       "  color: var(--sklearn-color-background);\n",
       "  text-decoration: none;\n",
       "}\n",
       "\n",
       "div.sk-estimator.fitted:hover .sk-estimator-doc-link.fitted:hover,\n",
       ".sk-estimator-doc-link.fitted:hover,\n",
       "div.sk-label-container:hover .sk-estimator-doc-link.fitted:hover,\n",
       ".sk-estimator-doc-link.fitted:hover {\n",
       "  /* fitted */\n",
       "  background-color: var(--sklearn-color-fitted-level-3);\n",
       "  color: var(--sklearn-color-background);\n",
       "  text-decoration: none;\n",
       "}\n",
       "\n",
       "/* Span, style for the box shown on hovering the info icon */\n",
       ".sk-estimator-doc-link span {\n",
       "  display: none;\n",
       "  z-index: 9999;\n",
       "  position: relative;\n",
       "  font-weight: normal;\n",
       "  right: .2ex;\n",
       "  padding: .5ex;\n",
       "  margin: .5ex;\n",
       "  width: min-content;\n",
       "  min-width: 20ex;\n",
       "  max-width: 50ex;\n",
       "  color: var(--sklearn-color-text);\n",
       "  box-shadow: 2pt 2pt 4pt #999;\n",
       "  /* unfitted */\n",
       "  background: var(--sklearn-color-unfitted-level-0);\n",
       "  border: .5pt solid var(--sklearn-color-unfitted-level-3);\n",
       "}\n",
       "\n",
       ".sk-estimator-doc-link.fitted span {\n",
       "  /* fitted */\n",
       "  background: var(--sklearn-color-fitted-level-0);\n",
       "  border: var(--sklearn-color-fitted-level-3);\n",
       "}\n",
       "\n",
       ".sk-estimator-doc-link:hover span {\n",
       "  display: block;\n",
       "}\n",
       "\n",
       "/* \"?\"-specific style due to the `<a>` HTML tag */\n",
       "\n",
       "#sk-container-id-3 a.estimator_doc_link {\n",
       "  float: right;\n",
       "  font-size: 1rem;\n",
       "  line-height: 1em;\n",
       "  font-family: monospace;\n",
       "  background-color: var(--sklearn-color-background);\n",
       "  border-radius: 1rem;\n",
       "  height: 1rem;\n",
       "  width: 1rem;\n",
       "  text-decoration: none;\n",
       "  /* unfitted */\n",
       "  color: var(--sklearn-color-unfitted-level-1);\n",
       "  border: var(--sklearn-color-unfitted-level-1) 1pt solid;\n",
       "}\n",
       "\n",
       "#sk-container-id-3 a.estimator_doc_link.fitted {\n",
       "  /* fitted */\n",
       "  border: var(--sklearn-color-fitted-level-1) 1pt solid;\n",
       "  color: var(--sklearn-color-fitted-level-1);\n",
       "}\n",
       "\n",
       "/* On hover */\n",
       "#sk-container-id-3 a.estimator_doc_link:hover {\n",
       "  /* unfitted */\n",
       "  background-color: var(--sklearn-color-unfitted-level-3);\n",
       "  color: var(--sklearn-color-background);\n",
       "  text-decoration: none;\n",
       "}\n",
       "\n",
       "#sk-container-id-3 a.estimator_doc_link.fitted:hover {\n",
       "  /* fitted */\n",
       "  background-color: var(--sklearn-color-fitted-level-3);\n",
       "}\n",
       "</style><div id=\"sk-container-id-3\" class=\"sk-top-container\"><div class=\"sk-text-repr-fallback\"><pre>TfidfVectorizer()</pre><b>In a Jupyter environment, please rerun this cell to show the HTML representation or trust the notebook. <br />On GitHub, the HTML representation is unable to render, please try loading this page with nbviewer.org.</b></div><div class=\"sk-container\" hidden><div class=\"sk-item\"><div class=\"sk-estimator fitted sk-toggleable\"><input class=\"sk-toggleable__control sk-hidden--visually\" id=\"sk-estimator-id-3\" type=\"checkbox\" checked><label for=\"sk-estimator-id-3\" class=\"sk-toggleable__label fitted sk-toggleable__label-arrow fitted\">&nbsp;&nbsp;TfidfVectorizer<a class=\"sk-estimator-doc-link fitted\" rel=\"noreferrer\" target=\"_blank\" href=\"https://scikit-learn.org/1.5/modules/generated/sklearn.feature_extraction.text.TfidfVectorizer.html\">?<span>Documentation for TfidfVectorizer</span></a><span class=\"sk-estimator-doc-link fitted\">i<span>Fitted</span></span></label><div class=\"sk-toggleable__content fitted\"><pre>TfidfVectorizer()</pre></div> </div></div></div></div>"
      ],
      "text/plain": [
       "TfidfVectorizer()"
      ]
     },
     "execution_count": 469,
     "metadata": {},
     "output_type": "execute_result"
    }
   ],
   "source": [
    "### Initializing TF-IDF vectorizer\n",
    "vectoriser = TfidfVectorizer()\n",
    "\n",
    "### Fitting the vector to training dataset\n",
    "vectoriser.fit(X_train)"
   ]
  },
  {
   "cell_type": "code",
   "execution_count": 470,
   "id": "8db07b21-7401-4b02-b30e-c87bcda00490",
   "metadata": {},
   "outputs": [],
   "source": [
    "### Transforming the train, val, and test data set with the vectorizer\n",
    "X_train = vectoriser.transform(X_train)\n",
    "X_val = vectoriser.transform(X_val)\n",
    "X_test = vectoriser.transform(X_test)"
   ]
  },
  {
   "cell_type": "markdown",
   "id": "347a9440-33bb-4b75-aea4-6bbe6812b49b",
   "metadata": {},
   "source": [
    "## Model Building and Evaluation\n",
    "\n",
    "We will be using three different models for this problem statement.\n",
    "\n",
    "    Bernoulli Naive Bayes Classifier\n",
    "    SVM (Support Vector Machine)\n",
    "    Logistic Regression\n",
    "\n",
    "The idea behind choosing these models is that we want to try all the classifiers on the dataset ranging from simple ones to complex models, and then try to find out the one that gives the best performance among them\n",
    "\n",
    "After training the model, we then apply the evaluation measures to check how the model is performing. Accordingly, we use the following evaluation parameters to check the performance of the models respectively:\n",
    "\n",
    "    Accuracy Score\n",
    "    Confusion Matrix with Plot\n"
   ]
  },
  {
   "cell_type": "code",
   "execution_count": 506,
   "id": "fb62eb51-12dd-4417-8353-4c8e0a1cf431",
   "metadata": {},
   "outputs": [],
   "source": [
    "def model_Evaluate(model,X_t,y_t):\n",
    "# Predict values for Test dataset\n",
    "    y_pred = model.predict(X_t)\n",
    "    # Print the evaluation metrics for the dataset.\n",
    "    print(classification_report(y_t, y_pred))\n",
    "    # Compute and plot the Confusion matrix\n",
    "    cf_matrix = confusion_matrix(y_t, y_pred)\n",
    "    categories = ['Negative','Positive']\n",
    "    group_names = ['True Neg','False Pos', 'False Neg','True Pos']\n",
    "    group_percentages = ['{0:.2%}'.format(value) for value in cf_matrix.flatten() / np.sum(cf_matrix)]\n",
    "    labels = [f'{v1}n{v2}' for v1, v2 in zip(group_names,group_percentages)]\n",
    "    labels = np.asarray(labels).reshape(2,2)\n",
    "    sns.heatmap(cf_matrix, annot = labels, cmap = 'mako',fmt = '',\n",
    "    xticklabels = categories, yticklabels = categories)\n",
    "    plt.xlabel(\"Predicted values\", fontdict = {'size':14}, labelpad = 10)\n",
    "    plt.ylabel(\"Actual values\" , fontdict = {'size':14}, labelpad = 10)\n",
    "    plt.title (\"Confusion Matrix\", fontdict = {'size':18}, pad = 20)"
   ]
  },
  {
   "cell_type": "markdown",
   "id": "cc0319f2-dcc9-4176-b720-a6a0f2f4599f",
   "metadata": {},
   "source": [
    "### A. Bernoulli Naive Bayes Classifier"
   ]
  },
  {
   "cell_type": "code",
   "execution_count": 471,
   "id": "81133acd-e52c-43c8-84cd-9769c691ec3f",
   "metadata": {},
   "outputs": [
    {
     "name": "stdout",
     "output_type": "stream",
     "text": [
      "              precision    recall  f1-score   support\n",
      "\n",
      "           0       0.76      0.79      0.78    144154\n",
      "           4       0.78      0.75      0.77    143846\n",
      "\n",
      "    accuracy                           0.77    288000\n",
      "   macro avg       0.77      0.77      0.77    288000\n",
      "weighted avg       0.77      0.77      0.77    288000\n",
      "\n"
     ]
    },
    {
     "data": {
      "image/png": "[encoded data removed]",
      "text/plain": [
       "<Figure size 640x480 with 2 Axes>"
      ]
     },
     "metadata": {},
     "output_type": "display_data"
    }
   ],
   "source": [
    "BNBmodel = BernoulliNB()\n",
    "BNBmodel.fit(X_train, y_train)\n",
    "model_Evaluate(BNBmodel,X_val,y_val)"
   ]
  },
  {
   "cell_type": "markdown",
   "id": "7a2b2528-aaba-46c7-becc-e50f760c4746",
   "metadata": {},
   "source": [
    "### B. SVM (Support Vector Machine)"
   ]
  },
  {
   "cell_type": "code",
   "execution_count": 472,
   "id": "eb694f0d-ca20-486a-8e0c-ebb828943080",
   "metadata": {},
   "outputs": [
    {
     "name": "stdout",
     "output_type": "stream",
     "text": [
      "              precision    recall  f1-score   support\n",
      "\n",
      "           0       0.78      0.76      0.77    144154\n",
      "           4       0.77      0.78      0.78    143846\n",
      "\n",
      "    accuracy                           0.77    288000\n",
      "   macro avg       0.77      0.77      0.77    288000\n",
      "weighted avg       0.77      0.77      0.77    288000\n",
      "\n"
     ]
    },
    {
     "data": {
      "image/png": "[encoded data removed]",
      "text/plain": [
       "<Figure size 640x480 with 2 Axes>"
      ]
     },
     "metadata": {},
     "output_type": "display_data"
    }
   ],
   "source": [
    "SVCmodel = LinearSVC()\n",
    "SVCmodel.fit(X_train, y_train)\n",
    "model_Evaluate(SVCmodel,X_val,y_val)"
   ]
  },
  {
   "cell_type": "markdown",
   "id": "6c802ba8-3e43-4c6b-aa1b-052030be13b6",
   "metadata": {},
   "source": [
    "### C. Logistic Regression"
   ]
  },
  {
   "cell_type": "code",
   "execution_count": 473,
   "id": "d3370c43-dc68-43ae-8253-3db4bc1244cd",
   "metadata": {},
   "outputs": [
    {
     "name": "stdout",
     "output_type": "stream",
     "text": [
      "              precision    recall  f1-score   support\n",
      "\n",
      "           0       0.79      0.76      0.78    144154\n",
      "           4       0.77      0.80      0.78    143846\n",
      "\n",
      "    accuracy                           0.78    288000\n",
      "   macro avg       0.78      0.78      0.78    288000\n",
      "weighted avg       0.78      0.78      0.78    288000\n",
      "\n"
     ]
    },
    {
     "data": {
      "image/png": "[encoded data removed]",
      "text/plain": [
       "<Figure size 640x480 with 2 Axes>"
      ]
     },
     "metadata": {},
     "output_type": "display_data"
    }
   ],
   "source": [
    "LRmodel = LogisticRegression()\n",
    "LRmodel.fit(X_train, y_train)\n",
    "model_Evaluate(LRmodel,X_val,y_val)"
   ]
  },
  {
   "cell_type": "code",
   "execution_count": null,
   "id": "ef9ea484-2998-422e-90ce-6f9227cb7cff",
   "metadata": {},
   "outputs": [],
   "source": []
  }
 ],
 "metadata": {
  "kernelspec": {
   "display_name": "Python 3 (ipykernel)",
   "language": "python",
   "name": "python3"
  },
  "language_info": {
   "codemirror_mode": {
    "name": "ipython",
    "version": 3
   },
   "file_extension": ".py",
   "mimetype": "text/x-python",
   "name": "python",
   "nbconvert_exporter": "python",
   "pygments_lexer": "ipython3",
   "version": "3.12.7"
  }
 },
 "nbformat": 4,
 "nbformat_minor": 5
}
